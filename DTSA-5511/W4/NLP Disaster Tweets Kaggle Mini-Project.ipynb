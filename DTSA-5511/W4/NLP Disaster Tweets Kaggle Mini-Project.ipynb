{
 "cells": [
  {
   "cell_type": "markdown",
   "id": "12cfff27",
   "metadata": {},
   "source": [
    "# Week 4: NLP Disaster Tweets Kaggle Mini-Project"
   ]
  },
  {
   "cell_type": "markdown",
   "id": "52f5952f",
   "metadata": {},
   "source": [
    "## 1. Introduction\n",
    "This mini-project aims to develop a machine learning model that is capable of classifying tweets as either related to real disasters or not. The dataset used in this project is retrieved from Kaggle competition \"Natural Language Processing with Disaster Tweets\": https://www.kaggle.com/competitions/nlp-getting-started/data. I will explore the data, preprocess it, build and train a Recurrent Neural Network (RNN) model, and evaluate its performance. The ultimate goal is to submit predictions for the test set and assess the model's effectiveness in identifying disaster-related tweets."
   ]
  },
  {
   "cell_type": "markdown",
   "id": "b120077d",
   "metadata": {},
   "source": [
    "## 2. Exploratory Data Analysis (EDA)\n",
    "In this section, I begin by importing the necessary libraries, including those for data manipulation, visualization, and model building. I then load the `train.csv` and `test.csv` datasets and inspect their structure.\n",
    "\n",
    "I check for missing values in the dataset and compute basic statistics to understand the distribution of the data. Finally, I plot the distribution of the target variable in the training set to gain a preliminary understanding of the data. This initial exploration helps me get familiar with the dataset and informs my preprocessing steps."
   ]
  },
  {
   "cell_type": "code",
   "execution_count": 1,
   "id": "d895621b",
   "metadata": {},
   "outputs": [],
   "source": [
    "import numpy as np\n",
    "import pandas as pd\n",
    "import matplotlib.pyplot as plt\n",
    "import seaborn as sns\n",
    "from tensorflow.keras.preprocessing.text import Tokenizer\n",
    "from tensorflow.keras.preprocessing.sequence import pad_sequences\n",
    "from sklearn.model_selection import train_test_split\n",
    "from tensorflow.keras.models import Sequential\n",
    "from tensorflow.keras.layers import Embedding, LSTM, Dense, Dropout, Bidirectional\n",
    "from tensorflow.keras.optimizers import Adam\n",
    "from sklearn.metrics import accuracy_score, classification_report, confusion_matrix"
   ]
  },
  {
   "cell_type": "code",
   "execution_count": 2,
   "id": "2f95cd7d",
   "metadata": {},
   "outputs": [
    {
     "name": "stdout",
     "output_type": "stream",
     "text": [
      "   id keyword location                                               text  \\\n",
      "0   1     NaN      NaN  Our Deeds are the Reason of this #earthquake M...   \n",
      "1   4     NaN      NaN             Forest fire near La Ronge Sask. Canada   \n",
      "2   5     NaN      NaN  All residents asked to 'shelter in place' are ...   \n",
      "3   6     NaN      NaN  13,000 people receive #wildfires evacuation or...   \n",
      "4   7     NaN      NaN  Just got sent this photo from Ruby #Alaska as ...   \n",
      "\n",
      "   target  \n",
      "0       1  \n",
      "1       1  \n",
      "2       1  \n",
      "3       1  \n",
      "4       1  \n",
      "   id keyword location                                               text\n",
      "0   0     NaN      NaN                 Just happened a terrible car crash\n",
      "1   2     NaN      NaN  Heard about #earthquake is different cities, s...\n",
      "2   3     NaN      NaN  there is a forest fire at spot pond, geese are...\n",
      "3   9     NaN      NaN           Apocalypse lighting. #Spokane #wildfires\n",
      "4  11     NaN      NaN      Typhoon Soudelor kills 28 in China and Taiwan\n"
     ]
    }
   ],
   "source": [
    "# Load datasets\n",
    "train_df = pd.read_csv('train.csv')\n",
    "test_df = pd.read_csv('test.csv')\n",
    "\n",
    "print(train_df.head())\n",
    "print(test_df.head())"
   ]
  },
  {
   "cell_type": "code",
   "execution_count": 3,
   "id": "7e5be2dd",
   "metadata": {},
   "outputs": [
    {
     "name": "stdout",
     "output_type": "stream",
     "text": [
      "id             0\n",
      "keyword       61\n",
      "location    2533\n",
      "text           0\n",
      "target         0\n",
      "dtype: int64\n",
      "                 id      target\n",
      "count   7613.000000  7613.00000\n",
      "mean    5441.934848     0.42966\n",
      "std     3137.116090     0.49506\n",
      "min        1.000000     0.00000\n",
      "25%     2734.000000     0.00000\n",
      "50%     5408.000000     0.00000\n",
      "75%     8146.000000     1.00000\n",
      "max    10873.000000     1.00000\n"
     ]
    }
   ],
   "source": [
    "# Check for missing values\n",
    "print(train_df.isnull().sum())\n",
    "\n",
    "# Basic statistics about the data\n",
    "print(train_df.describe())"
   ]
  },
  {
   "cell_type": "code",
   "execution_count": 4,
   "id": "16de075e",
   "metadata": {},
   "outputs": [
    {
     "data": {
      "image/png": "[encoded data removed]",
      "text/plain": [
       "<Figure size 640x480 with 1 Axes>"
      ]
     },
     "metadata": {},
     "output_type": "display_data"
    }
   ],
   "source": [
    "sns.countplot(x='target', data=train_df)\n",
    "plt.title('Distribution of Target Variable')\n",
    "plt.show()"
   ]
  },
  {
   "cell_type": "markdown",
   "id": "275ce946",
   "metadata": {},
   "source": [
    "## 3. Model Building & Training\n",
    "To start with, I defined a function to clean the tweet text by removing URLs, HTML tags, and punctuation, and converting the text to lowercase. This ensures that the text data is standardized and ready for model building. Then, I split the training data into two parts: one for training the model and the other for validating its accuracy. This allows me to monitor the model's performance on unseen data during training."
   ]
  },
  {
   "cell_type": "code",
   "execution_count": 5,
   "id": "44d53ec0",
   "metadata": {},
   "outputs": [
    {
     "name": "stdout",
     "output_type": "stream",
     "text": [
      "0    our deeds are the reason of this earthquake ma...\n",
      "1                forest fire near la ronge sask canada\n",
      "2    all residents asked to shelter in place are be...\n",
      "3    13000 people receive wildfires evacuation orde...\n",
      "4    just got sent this photo from ruby alaska as s...\n",
      "Name: text, dtype: object\n"
     ]
    }
   ],
   "source": [
    "import re\n",
    "import string\n",
    "\n",
    "def preprocess_text(text):\n",
    "    # Remove URLs\n",
    "    text = re.sub(r\"http\\S+\", \"\", text)\n",
    "    # Remove HTML tags\n",
    "    text = re.sub(r'<.*?>', '', text)\n",
    "    # Remove punctuation\n",
    "    text = text.translate(str.maketrans('', '', string.punctuation))\n",
    "    # Convert to lowercase\n",
    "    text = text.lower()\n",
    "    return text\n",
    "\n",
    "# Apply preprocessing to the text column\n",
    "train_df['text'] = train_df['text'].apply(preprocess_text)\n",
    "test_df['text'] = test_df['text'].apply(preprocess_text)\n",
    "\n",
    "# Display the first few rows of the preprocessed text\n",
    "print(train_df['text'].head())"
   ]
  },
  {
   "cell_type": "code",
   "execution_count": 6,
   "id": "37347670",
   "metadata": {},
   "outputs": [],
   "source": [
    "max_words = 20000\n",
    "max_len = 100\n",
    "\n",
    "tokenizer = Tokenizer(num_words=max_words)\n",
    "tokenizer.fit_on_texts(train_df['text'])\n",
    "\n",
    "X_train = tokenizer.texts_to_sequences(train_df['text'])\n",
    "X_test = tokenizer.texts_to_sequences(test_df['text'])\n",
    "\n",
    "X_train = pad_sequences(X_train, maxlen=max_len)\n",
    "X_test = pad_sequences(X_test, maxlen=max_len)\n",
    "\n",
    "y_train = train_df['target'].values"
   ]
  },
  {
   "cell_type": "code",
   "execution_count": 7,
   "id": "b90a612f",
   "metadata": {},
   "outputs": [
    {
     "name": "stdout",
     "output_type": "stream",
     "text": [
      "Training data shape: (6090, 100)\n",
      "Validation data shape: (1523, 100)\n"
     ]
    }
   ],
   "source": [
    "# Split the data into training and validation sets\n",
    "X_train, X_val, y_train, y_val = train_test_split(X_train, y_train, test_size=0.2, random_state=42)\n",
    "\n",
    "print(\"Training data shape:\", X_train.shape)\n",
    "print(\"Validation data shape:\", X_val.shape)\n"
   ]
  },
  {
   "cell_type": "code",
   "execution_count": 8,
   "id": "15a4284d",
   "metadata": {},
   "outputs": [
    {
     "name": "stderr",
     "output_type": "stream",
     "text": [
      "C:\\Users\\Cecile\\anaconda3\\Lib\\site-packages\\keras\\src\\layers\\core\\embedding.py:90: UserWarning: Argument `input_length` is deprecated. Just remove it.\n",
      "  warnings.warn(\n"
     ]
    }
   ],
   "source": [
    "model = Sequential()\n",
    "model.add(Embedding(max_words, 128, input_length=max_len))\n",
    "model.add(Bidirectional(LSTM(64, return_sequences=True)))\n",
    "model.add(Dropout(0.5))\n",
    "model.add(Bidirectional(LSTM(32)))\n",
    "model.add(Dense(1, activation='sigmoid'))\n",
    "\n",
    "model.compile(loss='binary_crossentropy', optimizer=Adam(learning_rate=1e-4), metrics=['accuracy'])"
   ]
  },
  {
   "cell_type": "markdown",
   "id": "7baec228",
   "metadata": {},
   "source": [
    "I compile the model using binary cross-entropy as the loss function and Adam as the optimizer. The model is trained for 5 epochs on the training data, with validation data being used to monitor performance after each epoch. The training process is key to adjusting the model's parameters to minimize the loss and improve accuracy."
   ]
  },
  {
   "cell_type": "code",
   "execution_count": 9,
   "id": "8da57fc9",
   "metadata": {},
   "outputs": [
    {
     "name": "stdout",
     "output_type": "stream",
     "text": [
      "Epoch 1/5\n",
      "\u001b[1m191/191\u001b[0m \u001b[32m━━━━━━━━━━━━━━━━━━━━\u001b[0m\u001b[37m\u001b[0m \u001b[1m12s\u001b[0m 46ms/step - accuracy: 0.5645 - loss: 0.6844 - val_accuracy: 0.5739 - val_loss: 0.6669\n",
      "Epoch 2/5\n",
      "\u001b[1m191/191\u001b[0m \u001b[32m━━━━━━━━━━━━━━━━━━━━\u001b[0m\u001b[37m\u001b[0m \u001b[1m8s\u001b[0m 44ms/step - accuracy: 0.6479 - loss: 0.6176 - val_accuracy: 0.8004 - val_loss: 0.4735\n",
      "Epoch 3/5\n",
      "\u001b[1m191/191\u001b[0m \u001b[32m━━━━━━━━━━━━━━━━━━━━\u001b[0m\u001b[37m\u001b[0m \u001b[1m9s\u001b[0m 45ms/step - accuracy: 0.8539 - loss: 0.3729 - val_accuracy: 0.7892 - val_loss: 0.4834\n",
      "Epoch 4/5\n",
      "\u001b[1m191/191\u001b[0m \u001b[32m━━━━━━━━━━━━━━━━━━━━\u001b[0m\u001b[37m\u001b[0m \u001b[1m9s\u001b[0m 47ms/step - accuracy: 0.9111 - loss: 0.2690 - val_accuracy: 0.7925 - val_loss: 0.4978\n",
      "Epoch 5/5\n",
      "\u001b[1m191/191\u001b[0m \u001b[32m━━━━━━━━━━━━━━━━━━━━\u001b[0m\u001b[37m\u001b[0m \u001b[1m9s\u001b[0m 47ms/step - accuracy: 0.9438 - loss: 0.1867 - val_accuracy: 0.7761 - val_loss: 0.5580\n"
     ]
    }
   ],
   "source": [
    "# Train the model\n",
    "history = model.fit(\n",
    "    X_train, y_train,\n",
    "    validation_data=(X_val, y_val),\n",
    "    epochs=5,\n",
    "    batch_size=32,\n",
    "    verbose=1\n",
    ")"
   ]
  },
  {
   "cell_type": "markdown",
   "id": "2c300203",
   "metadata": {},
   "source": [
    "## 4. Model Evaluation"
   ]
  },
  {
   "cell_type": "code",
   "execution_count": 10,
   "id": "d42072aa",
   "metadata": {},
   "outputs": [
    {
     "name": "stdout",
     "output_type": "stream",
     "text": [
      "\u001b[1m48/48\u001b[0m \u001b[32m━━━━━━━━━━━━━━━━━━━━\u001b[0m\u001b[37m\u001b[0m \u001b[1m1s\u001b[0m 16ms/step\n",
      "Validation Accuracy: 0.7760998030203545\n",
      "Classification Report:\n",
      "              precision    recall  f1-score   support\n",
      "\n",
      "           0       0.79      0.83      0.81       874\n",
      "           1       0.75      0.71      0.73       649\n",
      "\n",
      "    accuracy                           0.78      1523\n",
      "   macro avg       0.77      0.77      0.77      1523\n",
      "weighted avg       0.78      0.78      0.78      1523\n",
      "\n"
     ]
    },
    {
     "data": {
      "image/png": "[encoded data removed]",
      "text/plain": [
       "<Figure size 640x480 with 2 Axes>"
      ]
     },
     "metadata": {},
     "output_type": "display_data"
    }
   ],
   "source": [
    "# Predict on the validation set\n",
    "y_val_pred = (model.predict(X_val) > 0.5).astype(\"int32\")\n",
    "\n",
    "# Accuracy score\n",
    "val_accuracy = accuracy_score(y_val, y_val_pred)\n",
    "print(\"Validation Accuracy:\", val_accuracy)\n",
    "\n",
    "# Classification report\n",
    "print(\"Classification Report:\")\n",
    "print(classification_report(y_val, y_val_pred))\n",
    "\n",
    "# Confusion matrix\n",
    "cm = confusion_matrix(y_val, y_val_pred)\n",
    "sns.heatmap(cm, annot=True, fmt='d', cmap='Reds')\n",
    "plt.xlabel('Predicted')\n",
    "plt.ylabel('Actual')\n",
    "plt.title('Confusion Matrix')\n",
    "plt.show()"
   ]
  },
  {
   "cell_type": "markdown",
   "id": "3060023d",
   "metadata": {},
   "source": [
    "## 5. Generate Predictions for Test Folder"
   ]
  },
  {
   "cell_type": "code",
   "execution_count": 11,
   "id": "9393bd31",
   "metadata": {},
   "outputs": [
    {
     "name": "stdout",
     "output_type": "stream",
     "text": [
      "\u001b[1m102/102\u001b[0m \u001b[32m━━━━━━━━━━━━━━━━━━━━\u001b[0m\u001b[37m\u001b[0m \u001b[1m1s\u001b[0m 9ms/step\n"
     ]
    }
   ],
   "source": [
    "# Predict on the test set\n",
    "y_test_pred = (model.predict(X_test) > 0.5).astype(\"int32\")\n",
    "\n",
    "# Generate submission csv file\n",
    "submission_df = pd.DataFrame({'id': test_df['id'], 'target': y_test_pred.flatten()})\n",
    "submission_df.to_csv('submission.csv', index=False)\n"
   ]
  },
  {
   "cell_type": "markdown",
   "id": "10722a42",
   "metadata": {},
   "source": [
    "## 6. Conclusion\n",
    "This project demonstrated the process of developing a machine learning model to classify disaster-related tweets using Recurrent Neural Networks (RNNs). After performing data preprocessing steps such as text cleaning, tokenization, and padding, I built and trained an RNN model. The model was then evaluated on a validation set, achieving reasonable accuracy in classifying tweets. Finally, predictions were generated for the test set, and a submission file was prepared for the Kaggle competition. The techniques and data processing methods used in this project are versatile and can be applied not only to the classification of disaster-related tweets but also to a wide range of other text classification tasks."
   ]
  }
 ],
 "metadata": {
  "kernelspec": {
   "display_name": "Python 3 (ipykernel)",
   "language": "python",
   "name": "python3"
  },
  "language_info": {
   "codemirror_mode": {
    "name": "ipython",
    "version": 3
   },
   "file_extension": ".py",
   "mimetype": "text/x-python",
   "name": "python",
   "nbconvert_exporter": "python",
   "pygments_lexer": "ipython3",
   "version": "3.11.4"
  }
 },
 "nbformat": 4,
 "nbformat_minor": 5
}
